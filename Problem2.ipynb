{
 "cells": [
  {
   "cell_type": "markdown",
   "id": "anonymous-maple",
   "metadata": {},
   "source": [
    "# Problem 2: Burgers' Equation\n",
    "\n",
    "Burgers' equation is implemented here using tensorflow.  The base code has been taken from [this repository](git@github.com:okada39/pinn_burgers.git) and optimized for Jupyter.  The code from okada39 is based on the [original work](git@github.com:maziarraissi/PINNs.git) from Maziar Raissi, Paris Perdikaris, and George Em Karniadakis, however it was written using Tensorflow 2 instead of Tensorflow 1.  This is the main reason for using this code instead of the original.  "
   ]
  },
  {
   "cell_type": "code",
   "execution_count": 1,
   "id": "experienced-clock",
   "metadata": {},
   "outputs": [],
   "source": [
    "import scipy.optimize\n",
    "import numpy as np\n",
    "import tensorflow as tf\n",
    "#from .layer import GradientLayer\n",
    "import numpy as np\n",
    "import matplotlib.pyplot as plt\n",
    "from matplotlib.gridspec import GridSpec\n",
    "\n",
    "import os\n",
    "os.environ['TF_CPP_MIN_LOG_LEVEL'] = '3'\n",
    "import tensorflow as tf\n",
    "tf.compat.v1.logging.set_verbosity(tf.compat.v1.logging.ERROR)\n"
   ]
  },
  {
   "cell_type": "markdown",
   "id": "regular-metropolitan",
   "metadata": {},
   "source": [
    "## Build Solver Classes \n",
    "\n",
    "Classes for each part of the solver are built below."
   ]
  },
  {
   "cell_type": "markdown",
   "id": "retained-solomon",
   "metadata": {},
   "source": [
    "### Layer \n",
    "\n",
    "First we need a class to compute the 1st and 2nd derivatives for Burgers' equation."
   ]
  },
  {
   "cell_type": "code",
   "execution_count": 2,
   "id": "animal-check",
   "metadata": {},
   "outputs": [],
   "source": [
    "class GradientLayer(tf.keras.layers.Layer):\n",
    "\n",
    "    def __init__(self, model, **kwargs):\n",
    "        \n",
    "        self.model = model\n",
    "        super().__init__(**kwargs)\n",
    "\n",
    "    def call(self, x):\n",
    "\n",
    "        with tf.GradientTape() as g:\n",
    "            g.watch(x)\n",
    "            with tf.GradientTape() as gg:\n",
    "                gg.watch(x)\n",
    "                u = self.model(x)\n",
    "            du_dtx = gg.batch_jacobian(u, x)\n",
    "            du_dt = du_dtx[..., 0]\n",
    "            du_dx = du_dtx[..., 1]\n",
    "        d2u_dx2 = g.batch_jacobian(du_dx, x)[..., 1]\n",
    "        return u, du_dt, du_dx, d2u_dx2"
   ]
  },
  {
   "cell_type": "markdown",
   "id": "vocal-forest",
   "metadata": {},
   "source": [
    "### Neural Network\n",
    "\n",
    "Next we create a class called Network to build the neural network for Burgers' equation. The *build()* function takes 4 inputs:\n",
    "\n",
    "- num_inputs: number of input variables. Default is 2 for (t, x)\n",
    "- layers: number of hidden layers\n",
    "- activation: activation function in hidden layers\n",
    "- num_outpus: number of output variables. Default is 1 for u(t, x)\n",
    "\n",
    "and returns a keras network model."
   ]
  },
  {
   "cell_type": "code",
   "execution_count": 3,
   "id": "intense-fundamentals",
   "metadata": {},
   "outputs": [],
   "source": [
    "class Network:\n",
    "\n",
    "    @classmethod\n",
    "    def build(cls, num_inputs=2, layers=[32, 16, 32], activation='tanh', num_outputs=1):\n",
    "        # input layer\n",
    "        inputs = tf.keras.layers.Input(shape=(num_inputs,))\n",
    "        # hidden layers\n",
    "        x = inputs\n",
    "        for layer in layers:\n",
    "            x = tf.keras.layers.Dense(layer, activation=activation,\n",
    "                kernel_initializer='he_normal')(x)\n",
    "        # output layer\n",
    "        outputs = tf.keras.layers.Dense(num_outputs,\n",
    "            kernel_initializer='he_normal')(x)\n",
    "\n",
    "        return tf.keras.models.Model(inputs=inputs, outputs=outputs)"
   ]
  },
  {
   "cell_type": "markdown",
   "id": "future-textbook",
   "metadata": {},
   "source": [
    "### L_BFGS_B\n",
    "\n",
    "Tensorflow 2.4 has removed *tf.contrib()* which includes the L_BFGS_B optimization functions.  Additionally, unlike other functions that are no longer in Tensorflow, *tf.compat.v1.contrib()* cannot be used in the new Tensorflow version.  Therefore, an optimization class using the L_BFGS_B algorithm is written below.\n",
    "\n",
    "Inputs:\n",
    "- model: optimization target model.\n",
    "- samples: training samples.\n",
    "- factr: convergence condition. typical values for factr are: 1e12 for low accuracy;\n",
    "               1e7 for moderate accuracy; 10.0 for extremely high accuracy.\n",
    "- m: maximum number of variable metric corrections used to define the limited memory matrix.\n",
    "- maxls: maximum number of line search steps (per iteration).\n",
    "- maxiter: maximum number of iterations.\n",
    "- metris: log metrics\n",
    "- progbar: progress bar\n",
    "\n"
   ]
  },
  {
   "cell_type": "code",
   "execution_count": 4,
   "id": "metropolitan-martin",
   "metadata": {},
   "outputs": [],
   "source": [
    "class L_BFGS_B:\n",
    "\n",
    "    def __init__(self, model, x_train, y_train, factr=1e7, m=50, maxls=50, maxiter=5000):\n",
    "        \"\"\"\n",
    "        Args:\n",
    "            model: optimization target model.\n",
    "            samples: training samples.\n",
    "            factr: convergence condition. typical values for factr are: 1e12 for low accuracy;\n",
    "                   1e7 for moderate accuracy; 10.0 for extremely high accuracy.\n",
    "            m: maximum number of variable metric corrections used to define the limited memory matrix.\n",
    "            maxls: maximum number of line search steps (per iteration).\n",
    "            maxiter: maximum number of iterations.\n",
    "        \"\"\"\n",
    "\n",
    "        # set attributes\n",
    "        self.model = model\n",
    "        self.x_train = [ tf.constant(x, dtype=tf.float32) for x in x_train ]\n",
    "        self.y_train = [ tf.constant(y, dtype=tf.float32) for y in y_train ]\n",
    "        self.factr = factr\n",
    "        self.m = m\n",
    "        self.maxls = maxls\n",
    "        self.maxiter = maxiter\n",
    "        self.metrics = ['loss']\n",
    "        # initialize the progress bar\n",
    "        self.progbar = tf.keras.callbacks.ProgbarLogger(\n",
    "            count_mode='steps', stateful_metrics=self.metrics)\n",
    "        self.progbar.set_params( {\n",
    "            'verbose':1, 'epochs':1, 'steps':self.maxiter, 'metrics':self.metrics})\n",
    "\n",
    "    def set_weights(self, flat_weights):\n",
    "        \"\"\"\n",
    "        Set weights to the model.\n",
    "\n",
    "        Args:\n",
    "            flat_weights: flatten weights.\n",
    "        \"\"\"\n",
    "\n",
    "        # get model weights\n",
    "        shapes = [ w.shape for w in self.model.get_weights() ]\n",
    "        # compute splitting indices\n",
    "        split_ids = np.cumsum([ np.prod(shape) for shape in [0] + shapes ])\n",
    "        # reshape weights\n",
    "        weights = [ flat_weights[from_id:to_id].reshape(shape)\n",
    "            for from_id, to_id, shape in zip(split_ids[:-1], split_ids[1:], shapes) ]\n",
    "        # set weights to the model\n",
    "        self.model.set_weights(weights)\n",
    "\n",
    "    @tf.function\n",
    "    def tf_evaluate(self, x, y):\n",
    "        \"\"\"\n",
    "        Evaluate loss and gradients for weights as tf.Tensor.\n",
    "\n",
    "        Args:\n",
    "            x: input data.\n",
    "\n",
    "        Returns:\n",
    "            loss and gradients for weights as tf.Tensor.\n",
    "        \"\"\"\n",
    "\n",
    "        with tf.GradientTape() as g:\n",
    "            loss = tf.reduce_mean(tf.keras.losses.mse(self.model(x), y))\n",
    "        grads = g.gradient(loss, self.model.trainable_variables)\n",
    "        return loss, grads\n",
    "\n",
    "    def evaluate(self, weights):\n",
    "        \"\"\"\n",
    "        Evaluate loss and gradients for weights as ndarray.\n",
    "\n",
    "        Args:\n",
    "            weights: flatten weights.\n",
    "\n",
    "        Returns:\n",
    "            loss and gradients for weights as ndarray.\n",
    "        \"\"\"\n",
    "\n",
    "        # update weights\n",
    "        self.set_weights(weights)\n",
    "        # compute loss and gradients for weights\n",
    "        loss, grads = self.tf_evaluate(self.x_train, self.y_train)\n",
    "        # convert tf.Tensor to flatten ndarray\n",
    "        loss = loss.numpy().astype('float64')\n",
    "        grads = np.concatenate([ g.numpy().flatten() for g in grads ]).astype('float64')\n",
    "\n",
    "        return loss, grads\n",
    "\n",
    "    def callback(self, weights):\n",
    "        \"\"\"\n",
    "        Callback that prints the progress to stdout.\n",
    "\n",
    "        Args:\n",
    "            weights: flatten weights.\n",
    "        \"\"\"\n",
    "        self.progbar.on_batch_begin(0)\n",
    "        loss, _ = self.evaluate(weights)\n",
    "        self.progbar.on_batch_end(0, logs=dict(zip(self.metrics, [loss])))\n",
    "\n",
    "    def fit(self):\n",
    "        \"\"\"\n",
    "        Train the model using L-BFGS-B algorithm.\n",
    "        \"\"\"\n",
    "\n",
    "        # get initial weights as a flat vector\n",
    "        initial_weights = np.concatenate(\n",
    "            [ w.flatten() for w in self.model.get_weights() ])\n",
    "        # optimize the weight vector\n",
    "        print('Optimizer: L-BFGS-B (maxiter={})'.format(self.maxiter))\n",
    "        self.progbar.on_train_begin()\n",
    "        self.progbar.on_epoch_begin(1)\n",
    "        scipy.optimize.fmin_l_bfgs_b(func=self.evaluate, x0=initial_weights,\n",
    "            factr=self.factr, m=self.m, maxls=self.maxls, maxiter=self.maxiter,\n",
    "            callback=self.callback)\n",
    "        self.progbar.on_epoch_end(1)\n",
    "        self.progbar.on_train_end()\n"
   ]
  },
  {
   "cell_type": "markdown",
   "id": "competent-manitoba",
   "metadata": {},
   "source": [
    "## Physics Informed Neural Network\n",
    "\n",
    "Lastly, we create a class that builds a physics informed neural network (PINN) model for Burgers' equation.\n",
    "\n",
    "Inputs:\n",
    "\n",
    "- network: keras network model with input (t, x) and output u(t, x).\n",
    "- nu: kinematic viscosity.\n",
    "- grads: gradient layer."
   ]
  },
  {
   "cell_type": "code",
   "execution_count": 5,
   "id": "valuable-bowling",
   "metadata": {},
   "outputs": [],
   "source": [
    "class PINN:\n",
    "\n",
    "    def __init__(self, network, nu):\n",
    "        \"\"\"\n",
    "        Args:\n",
    "            network: keras network model with input (t, x) and output u(t, x).\n",
    "            nu: kinematic viscosity.\n",
    "        \"\"\"\n",
    "\n",
    "        self.network = network\n",
    "        self.nu = nu\n",
    "        self.grads = GradientLayer(self.network)\n",
    "\n",
    "    def build(self):\n",
    "        \"\"\"\n",
    "        Build a PINN model for Burgers' equation.\n",
    "\n",
    "        Returns:\n",
    "            PINN model for the projectile motion with\n",
    "                input: [ (t, x) relative to equation,\n",
    "                         (t=0, x) relative to initial condition,\n",
    "                         (t, x=bounds) relative to boundary condition ],\n",
    "                output: [ u(t,x) relative to equation (must be zero),\n",
    "                          u(t=0, x) relative to initial condition,\n",
    "                          u(t, x=bounds) relative to boundary condition ]\n",
    "        \"\"\"\n",
    "\n",
    "        # equation input: (t, x)\n",
    "        tx_eqn = tf.keras.layers.Input(shape=(2,))\n",
    "        # initial condition input: (t=0, x)\n",
    "        tx_ini = tf.keras.layers.Input(shape=(2,))\n",
    "        # boundary condition input: (t, x=-1) or (t, x=+1)\n",
    "        tx_bnd = tf.keras.layers.Input(shape=(2,))\n",
    "\n",
    "        # compute gradients\n",
    "        u, du_dt, du_dx, d2u_dx2 = self.grads(tx_eqn)\n",
    "\n",
    "        # equation output being zero\n",
    "        u_eqn = du_dt + u*du_dx - self.nu*d2u_dx2\n",
    "        # initial condition output\n",
    "        u_ini = self.network(tx_ini)\n",
    "        # boundary condition output\n",
    "        u_bnd = self.network(tx_bnd)\n",
    "\n",
    "        # build the PINN model for Burgers' equation\n",
    "        return tf.keras.models.Model(\n",
    "            inputs=[tx_eqn, tx_ini, tx_bnd], outputs=[u_eqn, u_ini, u_bnd])"
   ]
  },
  {
   "cell_type": "code",
   "execution_count": 6,
   "id": "deluxe-tonight",
   "metadata": {},
   "outputs": [],
   "source": [
    "# number of training samples\n",
    "num_train_samples = 10000\n",
    "# number of test samples\n",
    "num_test_samples = 1000\n",
    "# kinematic viscosity\n",
    "nu = 0.01 / np.pi"
   ]
  },
  {
   "cell_type": "code",
   "execution_count": 7,
   "id": "arctic-resistance",
   "metadata": {},
   "outputs": [
    {
     "name": "stdout",
     "output_type": "stream",
     "text": [
      "Model: \"model\"\n",
      "_________________________________________________________________\n",
      "Layer (type)                 Output Shape              Param #   \n",
      "=================================================================\n",
      "input_1 (InputLayer)         [(None, 2)]               0         \n",
      "_________________________________________________________________\n",
      "dense (Dense)                (None, 32)                96        \n",
      "_________________________________________________________________\n",
      "dense_1 (Dense)              (None, 16)                528       \n",
      "_________________________________________________________________\n",
      "dense_2 (Dense)              (None, 32)                544       \n",
      "_________________________________________________________________\n",
      "dense_3 (Dense)              (None, 1)                 33        \n",
      "=================================================================\n",
      "Total params: 1,201\n",
      "Trainable params: 1,201\n",
      "Non-trainable params: 0\n",
      "_________________________________________________________________\n"
     ]
    }
   ],
   "source": [
    "# build a core network model\n",
    "network = Network.build()\n",
    "network.summary()\n",
    "# build a PINN model\n",
    "pinn = PINN(network, nu).build()"
   ]
  },
  {
   "cell_type": "code",
   "execution_count": 8,
   "id": "circular-diagram",
   "metadata": {},
   "outputs": [],
   "source": [
    "# create training input\n",
    "tx_eqn = np.random.rand(num_train_samples, 2)          # t_eqn =  0 ~ +1\n",
    "tx_eqn[..., 1] = 2 * tx_eqn[..., 1] - 1                # x_eqn = -1 ~ +1\n",
    "tx_ini = 2 * np.random.rand(num_train_samples, 2) - 1  # x_ini = -1 ~ +1\n",
    "tx_ini[..., 0] = 0                                     # t_ini =  0\n",
    "tx_bnd = np.random.rand(num_train_samples, 2)          # t_bnd =  0 ~ +1\n",
    "tx_bnd[..., 1] = 2 * np.round(tx_bnd[..., 1]) - 1      # x_bnd = -1 or +1\n",
    "# create training output\n",
    "u_eqn = np.zeros((num_train_samples, 1))               # u_eqn = 0\n",
    "u_ini = np.sin(-np.pi * tx_ini[..., 1, np.newaxis])    # u_ini = -sin(pi*x_ini)\n",
    "u_bnd = np.zeros((num_train_samples, 1))               # u_bnd = 0"
   ]
  },
  {
   "cell_type": "code",
   "execution_count": 11,
   "id": "static-tribute",
   "metadata": {},
   "outputs": [
    {
     "name": "stdout",
     "output_type": "stream",
     "text": [
      "Optimizer: L-BFGS-B (maxiter=1000)\n",
      "1000/1000 [==============================] - 165s 165ms/step\n"
     ]
    }
   ],
   "source": [
    "# train the model using L-BFGS-B algorithm\n",
    "x_train = [tx_eqn, tx_ini, tx_bnd]\n",
    "y_train = [ u_eqn,  u_ini,  u_bnd]\n",
    "lbfgs = L_BFGS_B(model=pinn, x_train=x_train, y_train=y_train,maxiter=1000)\n",
    "lbfgs.fit()"
   ]
  },
  {
   "cell_type": "code",
   "execution_count": 12,
   "id": "digital-layout",
   "metadata": {},
   "outputs": [],
   "source": [
    "# predict u(t,x) distribution\n",
    "t_flat = np.linspace(0, 1, num_test_samples)\n",
    "x_flat = np.linspace(-1, 1, num_test_samples)\n",
    "t, x = np.meshgrid(t_flat, x_flat)\n",
    "tx = np.stack([t.flatten(), x.flatten()], axis=-1)\n",
    "u = network.predict(tx, batch_size=num_test_samples)\n",
    "u = u.reshape(t.shape)"
   ]
  },
  {
   "cell_type": "code",
   "execution_count": 13,
   "id": "indian-appearance",
   "metadata": {},
   "outputs": [
    {
     "name": "stderr",
     "output_type": "stream",
     "text": [
      "/home/danny/.local/lib/python3.6/site-packages/ipykernel_launcher.py:5: MatplotlibDeprecationWarning: shading='flat' when X and Y have the same dimensions as C is deprecated since 3.3.  Either specify the corners of the quadrilaterals with X and Y, or pass shading='auto', 'nearest' or 'gouraud', or set rcParams['pcolor.shading'].  This will become an error two minor releases later.\n",
      "  \"\"\"\n"
     ]
    },
    {
     "data": {
      "image/png": "[encoded data removed]",
      "text/plain": [
       "<Figure size 504x288 with 5 Axes>"
      ]
     },
     "metadata": {
      "needs_background": "light"
     },
     "output_type": "display_data"
    }
   ],
   "source": [
    "# plot u(t,x) distribution as a color-map\n",
    "fig = plt.figure(figsize=(7,4))\n",
    "gs = GridSpec(2, 3)\n",
    "plt.subplot(gs[0, :])\n",
    "plt.pcolormesh(t, x, u, cmap='rainbow')\n",
    "plt.xlabel('t')\n",
    "plt.ylabel('x')\n",
    "cbar = plt.colorbar(pad=0.05, aspect=10)\n",
    "cbar.set_label('u(t,x)')\n",
    "cbar.mappable.set_clim(-1, 1)\n",
    "# plot u(t=const, x) cross-sections\n",
    "t_cross_sections = [0.25, 0.5, 0.75]\n",
    "for i, t_cs in enumerate(t_cross_sections):\n",
    "    plt.subplot(gs[1, i])\n",
    "    tx = np.stack([np.full(t_flat.shape, t_cs), x_flat], axis=-1)\n",
    "    u = network.predict(tx, batch_size=num_test_samples)\n",
    "    plt.plot(x_flat, u)\n",
    "    plt.title('t={}'.format(t_cs))\n",
    "    plt.xlabel('x')\n",
    "    plt.ylabel('u(t,x)')\n",
    "plt.tight_layout()\n",
    "plt.show()"
   ]
  },
  {
   "cell_type": "markdown",
   "id": "furnished-thumbnail",
   "metadata": {},
   "source": [
    "### More References:\n",
    "- Raissi, Maziar, Paris Perdikaris, and George E. Karniadakis. \"Physics-informed neural networks: A deep learning framework for solving forward and inverse problems involving nonlinear partial differential equations.\" Journal of Computational Physics 378 (2019): 686-707.\n",
    "\n",
    "- Raissi, Maziar, Paris Perdikaris, and George Em Karniadakis. \"Physics Informed Deep Learning (Part I): Data-driven Solutions of Nonlinear Partial Differential Equations.\" arXiv preprint arXiv:1711.10561 (2017).\n",
    "\n",
    "- Raissi, Maziar, Paris Perdikaris, and George Em Karniadakis. \"Physics Informed Deep Learning (Part II): Data-driven Discovery of Nonlinear Partial Differential Equations.\" arXiv preprint arXiv:1711.10566 (2017).\n"
   ]
  },
  {
   "cell_type": "code",
   "execution_count": null,
   "id": "sealed-grain",
   "metadata": {},
   "outputs": [],
   "source": []
  }
 ],
 "metadata": {
  "kernelspec": {
   "display_name": "Python 3",
   "language": "python",
   "name": "python3"
  },
  "language_info": {
   "codemirror_mode": {
    "name": "ipython",
    "version": 3
   },
   "file_extension": ".py",
   "mimetype": "text/x-python",
   "name": "python",
   "nbconvert_exporter": "python",
   "pygments_lexer": "ipython3",
   "version": "3.6.9"
  }
 },
 "nbformat": 4,
 "nbformat_minor": 5
}
